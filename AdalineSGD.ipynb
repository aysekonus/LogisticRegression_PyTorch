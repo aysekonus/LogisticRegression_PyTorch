{
  "nbformat": 4,
  "nbformat_minor": 0,
  "metadata": {
    "colab": {
      "name": "AdalineSGD.ipynb",
      "provenance": [],
      "collapsed_sections": [],
      "authorship_tag": "ABX9TyNVBylGYDHClEOqhJ/Ncs2W",
      "include_colab_link": true
    },
    "kernelspec": {
      "name": "python3",
      "display_name": "Python 3"
    },
    "language_info": {
      "name": "python"
    }
  },
  "cells": [
    {
      "cell_type": "markdown",
      "metadata": {
        "id": "view-in-github",
        "colab_type": "text"
      },
      "source": [
        "<a href=\"https://colab.research.google.com/github/aysekonus/LogisticRegression_PyTorch/blob/main/AdalineSGD.ipynb\" target=\"_parent\"><img src=\"https://colab.research.google.com/assets/colab-badge.svg\" alt=\"Open In Colab\"/></a>"
      ]
    },
    {
      "cell_type": "markdown",
      "source": [
        "### **ADALINE with Stochastic Gradient Descent (Minibatch)**"
      ],
      "metadata": {
        "id": "ddNllfrQ_fag"
      }
    },
    {
      "cell_type": "code",
      "source": [
        "import pandas as pd\n",
        "import matplotlib.pyplot as plt\n",
        "import torch\n",
        "%matplotlib inline"
      ],
      "metadata": {
        "id": "6WjfquQ7_iFU"
      },
      "execution_count": 6,
      "outputs": []
    },
    {
      "cell_type": "code",
      "source": [
        "df = pd.read_csv('./dataset/iris.data', index_col=None, header=None)\n",
        "df.columns = ['x1', 'x2', 'x3', 'x4', 'y']\n",
        "df = df.iloc[60:120]\n",
        "df['y'] = df['y'].apply(lambda x: 0 if x == 'Iris-versicolor' else 1)\n",
        "df.tail()"
      ],
      "metadata": {
        "colab": {
          "base_uri": "https://localhost:8080/",
          "height": 206
        },
        "id": "jRpSoV4L_vq1",
        "outputId": "2e3eab16-75c5-474b-ed73-1811e88fc0ae"
      },
      "execution_count": 9,
      "outputs": [
        {
          "output_type": "execute_result",
          "data": {
            "text/plain": [
              "      x1   x2   x3   x4  y\n",
              "115  6.4  3.2  5.3  2.3  1\n",
              "116  6.5  3.0  5.5  1.8  1\n",
              "117  7.7  3.8  6.7  2.2  1\n",
              "118  7.7  2.6  6.9  2.3  1\n",
              "119  6.0  2.2  5.0  1.5  1"
            ],
            "text/html": [
              "\n",
              "  <div id=\"df-1414158d-c1be-4975-bed0-4a5255174233\">\n",
              "    <div class=\"colab-df-container\">\n",
              "      <div>\n",
              "<style scoped>\n",
              "    .dataframe tbody tr th:only-of-type {\n",
              "        vertical-align: middle;\n",
              "    }\n",
              "\n",
              "    .dataframe tbody tr th {\n",
              "        vertical-align: top;\n",
              "    }\n",
              "\n",
              "    .dataframe thead th {\n",
              "        text-align: right;\n",
              "    }\n",
              "</style>\n",
              "<table border=\"1\" class=\"dataframe\">\n",
              "  <thead>\n",
              "    <tr style=\"text-align: right;\">\n",
              "      <th></th>\n",
              "      <th>x1</th>\n",
              "      <th>x2</th>\n",
              "      <th>x3</th>\n",
              "      <th>x4</th>\n",
              "      <th>y</th>\n",
              "    </tr>\n",
              "  </thead>\n",
              "  <tbody>\n",
              "    <tr>\n",
              "      <th>115</th>\n",
              "      <td>6.4</td>\n",
              "      <td>3.2</td>\n",
              "      <td>5.3</td>\n",
              "      <td>2.3</td>\n",
              "      <td>1</td>\n",
              "    </tr>\n",
              "    <tr>\n",
              "      <th>116</th>\n",
              "      <td>6.5</td>\n",
              "      <td>3.0</td>\n",
              "      <td>5.5</td>\n",
              "      <td>1.8</td>\n",
              "      <td>1</td>\n",
              "    </tr>\n",
              "    <tr>\n",
              "      <th>117</th>\n",
              "      <td>7.7</td>\n",
              "      <td>3.8</td>\n",
              "      <td>6.7</td>\n",
              "      <td>2.2</td>\n",
              "      <td>1</td>\n",
              "    </tr>\n",
              "    <tr>\n",
              "      <th>118</th>\n",
              "      <td>7.7</td>\n",
              "      <td>2.6</td>\n",
              "      <td>6.9</td>\n",
              "      <td>2.3</td>\n",
              "      <td>1</td>\n",
              "    </tr>\n",
              "    <tr>\n",
              "      <th>119</th>\n",
              "      <td>6.0</td>\n",
              "      <td>2.2</td>\n",
              "      <td>5.0</td>\n",
              "      <td>1.5</td>\n",
              "      <td>1</td>\n",
              "    </tr>\n",
              "  </tbody>\n",
              "</table>\n",
              "</div>\n",
              "      <button class=\"colab-df-convert\" onclick=\"convertToInteractive('df-1414158d-c1be-4975-bed0-4a5255174233')\"\n",
              "              title=\"Convert this dataframe to an interactive table.\"\n",
              "              style=\"display:none;\">\n",
              "        \n",
              "  <svg xmlns=\"http://www.w3.org/2000/svg\" height=\"24px\"viewBox=\"0 0 24 24\"\n",
              "       width=\"24px\">\n",
              "    <path d=\"M0 0h24v24H0V0z\" fill=\"none\"/>\n",
              "    <path d=\"M18.56 5.44l.94 2.06.94-2.06 2.06-.94-2.06-.94-.94-2.06-.94 2.06-2.06.94zm-11 1L8.5 8.5l.94-2.06 2.06-.94-2.06-.94L8.5 2.5l-.94 2.06-2.06.94zm10 10l.94 2.06.94-2.06 2.06-.94-2.06-.94-.94-2.06-.94 2.06-2.06.94z\"/><path d=\"M17.41 7.96l-1.37-1.37c-.4-.4-.92-.59-1.43-.59-.52 0-1.04.2-1.43.59L10.3 9.45l-7.72 7.72c-.78.78-.78 2.05 0 2.83L4 21.41c.39.39.9.59 1.41.59.51 0 1.02-.2 1.41-.59l7.78-7.78 2.81-2.81c.8-.78.8-2.07 0-2.86zM5.41 20L4 18.59l7.72-7.72 1.47 1.35L5.41 20z\"/>\n",
              "  </svg>\n",
              "      </button>\n",
              "      \n",
              "  <style>\n",
              "    .colab-df-container {\n",
              "      display:flex;\n",
              "      flex-wrap:wrap;\n",
              "      gap: 12px;\n",
              "    }\n",
              "\n",
              "    .colab-df-convert {\n",
              "      background-color: #E8F0FE;\n",
              "      border: none;\n",
              "      border-radius: 50%;\n",
              "      cursor: pointer;\n",
              "      display: none;\n",
              "      fill: #1967D2;\n",
              "      height: 32px;\n",
              "      padding: 0 0 0 0;\n",
              "      width: 32px;\n",
              "    }\n",
              "\n",
              "    .colab-df-convert:hover {\n",
              "      background-color: #E2EBFA;\n",
              "      box-shadow: 0px 1px 2px rgba(60, 64, 67, 0.3), 0px 1px 3px 1px rgba(60, 64, 67, 0.15);\n",
              "      fill: #174EA6;\n",
              "    }\n",
              "\n",
              "    [theme=dark] .colab-df-convert {\n",
              "      background-color: #3B4455;\n",
              "      fill: #D2E3FC;\n",
              "    }\n",
              "\n",
              "    [theme=dark] .colab-df-convert:hover {\n",
              "      background-color: #434B5C;\n",
              "      box-shadow: 0px 1px 3px 1px rgba(0, 0, 0, 0.15);\n",
              "      filter: drop-shadow(0px 1px 2px rgba(0, 0, 0, 0.3));\n",
              "      fill: #FFFFFF;\n",
              "    }\n",
              "  </style>\n",
              "\n",
              "      <script>\n",
              "        const buttonEl =\n",
              "          document.querySelector('#df-1414158d-c1be-4975-bed0-4a5255174233 button.colab-df-convert');\n",
              "        buttonEl.style.display =\n",
              "          google.colab.kernel.accessAllowed ? 'block' : 'none';\n",
              "\n",
              "        async function convertToInteractive(key) {\n",
              "          const element = document.querySelector('#df-1414158d-c1be-4975-bed0-4a5255174233');\n",
              "          const dataTable =\n",
              "            await google.colab.kernel.invokeFunction('convertToInteractive',\n",
              "                                                     [key], {});\n",
              "          if (!dataTable) return;\n",
              "\n",
              "          const docLinkHtml = 'Like what you see? Visit the ' +\n",
              "            '<a target=\"_blank\" href=https://colab.research.google.com/notebooks/data_table.ipynb>data table notebook</a>'\n",
              "            + ' to learn more about interactive tables.';\n",
              "          element.innerHTML = '';\n",
              "          dataTable['output_type'] = 'display_data';\n",
              "          await google.colab.output.renderOutput(dataTable, element);\n",
              "          const docLink = document.createElement('div');\n",
              "          docLink.innerHTML = docLinkHtml;\n",
              "          element.appendChild(docLink);\n",
              "        }\n",
              "      </script>\n",
              "    </div>\n",
              "  </div>\n",
              "  "
            ]
          },
          "metadata": {},
          "execution_count": 9
        }
      ]
    },
    {
      "cell_type": "code",
      "source": [
        "X = torch.tensor(df[['x2', 'x3']].values, dtype=torch.float)\n",
        "y = torch.tensor(df['y'].values, dtype=torch.int)\n",
        "\n",
        "torch.manual_seed(123)\n",
        "shuffle_idx = torch.randperm(y.size(0), dtype=torch.long)\n",
        "\n",
        "X, y = X[shuffle_idx], y[shuffle_idx]\n",
        "\n",
        "percent70 = int(shuffle_idx.size(0)*0.7)\n",
        "\n",
        "X_train, X_test = X[shuffle_idx[:percent70]], X[shuffle_idx[percent70:]]\n",
        "y_train, y_test = y[shuffle_idx[:percent70]], y[shuffle_idx[percent70:]]\n",
        "\n",
        "# Normalize\n",
        "mu, sigma = X_train.mean(dim=0), X_train.std(dim=0)\n",
        "X_train = (X_train - mu) / sigma\n",
        "X_test = (X_test - mu) / sigma"
      ],
      "metadata": {
        "id": "krK27pPOATAH"
      },
      "execution_count": 10,
      "outputs": []
    },
    {
      "cell_type": "code",
      "source": [
        "plt.scatter(X_train[y_train == 0, 0], X_train[y_train == 0, 1], label='class 0')\n",
        "plt.scatter(X_train[y_train == 1, 0], X_train[y_train == 1, 1], label='class 1')\n",
        "plt.legend()\n",
        "plt.show()"
      ],
      "metadata": {
        "colab": {
          "base_uri": "https://localhost:8080/",
          "height": 265
        },
        "id": "GdgwGIXiApP3",
        "outputId": "5da60d78-5c48-4798-862e-1c3a83bc7e58"
      },
      "execution_count": 13,
      "outputs": [
        {
          "output_type": "display_data",
          "data": {
            "text/plain": [
              "<Figure size 432x288 with 1 Axes>"
            ],
            "image/png": "[encoded data removed]"
          },
          "metadata": {
            "needs_background": "light"
          }
        }
      ]
    },
    {
      "cell_type": "code",
      "source": [
        "plt.scatter(X_test[y_test == 0, 0], X_test[y_test == 0, 1], label='class 0')\n",
        "plt.scatter(X_test[y_test == 1, 0], X_test[y_test == 1, 1], label='class 1')\n",
        "plt.legend()\n",
        "plt.show()"
      ],
      "metadata": {
        "colab": {
          "base_uri": "https://localhost:8080/",
          "height": 265
        },
        "id": "KLBLn9mXAxXX",
        "outputId": "630a65fa-4875-4fe1-8562-63e73aaefd6a"
      },
      "execution_count": 14,
      "outputs": [
        {
          "output_type": "display_data",
          "data": {
            "text/plain": [
              "<Figure size 432x288 with 1 Axes>"
            ],
            "image/png": "[encoded data removed]"
          },
          "metadata": {
            "needs_background": "light"
          }
        }
      ]
    },
    {
      "cell_type": "code",
      "source": [
        "class Adaline():\n",
        "    def __init__(self, num_features):\n",
        "        self.num_features = num_features\n",
        "        self.weights = torch.zeros(num_features, 1, dtype=torch.float)\n",
        "        self.bias = torch.zeros(1, dtype=torch.float)\n",
        "\n",
        "    def forward(self, x):\n",
        "        netinputs = torch.add(torch.mm(x, self.weights), self.bias)\n",
        "        activations = netinputs\n",
        "        return activations.view(-1)\n",
        "        \n",
        "    def backward(self, x, yhat, y):  \n",
        "        grad_loss_yhat = 2*(yhat - y)\n",
        "        \n",
        "        grad_yhat_weights = x\n",
        "        grad_yhat_bias = 1.\n",
        "        \n",
        "        grad_loss_weights = torch.mm(grad_yhat_weights.t(), grad_loss_yhat.view(-1, 1)) / y.size(0)\n",
        "        grad_loss_bias = torch.sum(grad_yhat_bias*grad_loss_yhat) / y.size(0)\n",
        "        \n",
        "        return (-1)*grad_loss_weights, (-1)*grad_loss_bias"
      ],
      "metadata": {
        "id": "ZN5hNziSA1ax"
      },
      "execution_count": 15,
      "outputs": []
    },
    {
      "cell_type": "code",
      "source": [
        "def loss(yhat, y):\n",
        "    return torch.mean((yhat - y)**2)\n",
        "\n",
        "\n",
        "def train(model, x, y, num_epochs,\n",
        "          learning_rate=0.01, seed=123, minibatch_size=10):\n",
        "    cost = []\n",
        "    \n",
        "    torch.manual_seed(seed)\n",
        "    for e in range(num_epochs):\n",
        "        \n",
        "        shuffle_idx = torch.randperm(y.size(0), dtype=torch.long)\n",
        "        minibatches = torch.split(shuffle_idx, minibatch_size)\n",
        "        \n",
        "        for minibatch_idx in minibatches:\n",
        "\n",
        "            # Compute outputs \n",
        "            yhat = model.forward(x[minibatch_idx])\n",
        "\n",
        "            # Compute gradients \n",
        "            negative_grad_w, negative_grad_b = \\\n",
        "                model.backward(x[minibatch_idx], yhat, y[minibatch_idx])\n",
        "\n",
        "            # Update weights\n",
        "            model.weights += learning_rate * negative_grad_w\n",
        "            model.bias += learning_rate * negative_grad_b\n",
        "            \n",
        "            # Logging \n",
        "            minibatch_loss = loss(yhat, y[minibatch_idx])\n",
        "            print('    Minibatch MSE: %.3f' % minibatch_loss)\n",
        "\n",
        "        #### Logging ####\n",
        "        yhat = model.forward(x)\n",
        "        curr_loss = loss(yhat, y)\n",
        "        print('Epoch: %03d' % (e+1), end=\"\")\n",
        "        print(' | MSE: %.5f' % curr_loss)\n",
        "        cost.append(curr_loss)\n",
        "    \n",
        "    return cost"
      ],
      "metadata": {
        "id": "Jlg89rVkBC7V"
      },
      "execution_count": 16,
      "outputs": []
    },
    {
      "cell_type": "code",
      "source": [
        "# Train model\n",
        "model = Adaline(num_features=X_train.size(1))\n",
        "cost = train(model, \n",
        "             X_train, y_train.float(),\n",
        "             num_epochs=20,\n",
        "             learning_rate=0.1,\n",
        "             seed=123,\n",
        "             minibatch_size=10)"
      ],
      "metadata": {
        "colab": {
          "base_uri": "https://localhost:8080/"
        },
        "id": "KTdOjCZUBVZ5",
        "outputId": "97fb58b5-e303-4d8b-bfeb-fe6474193128"
      },
      "execution_count": 18,
      "outputs": [
        {
          "output_type": "stream",
          "name": "stdout",
          "text": [
            "    Minibatch MSE: 0.400\n",
            "    Minibatch MSE: 0.284\n",
            "    Minibatch MSE: 0.406\n",
            "    Minibatch MSE: 0.030\n",
            "    Minibatch MSE: 0.007\n",
            "Epoch: 001 | MSE: 0.13991\n",
            "    Minibatch MSE: 0.102\n",
            "    Minibatch MSE: 0.130\n",
            "    Minibatch MSE: 0.058\n",
            "    Minibatch MSE: 0.162\n",
            "    Minibatch MSE: 0.298\n",
            "Epoch: 002 | MSE: 0.09361\n",
            "    Minibatch MSE: 0.107\n",
            "    Minibatch MSE: 0.102\n",
            "    Minibatch MSE: 0.084\n",
            "    Minibatch MSE: 0.089\n",
            "    Minibatch MSE: 0.079\n",
            "Epoch: 003 | MSE: 0.08980\n",
            "    Minibatch MSE: 0.107\n",
            "    Minibatch MSE: 0.084\n",
            "    Minibatch MSE: 0.108\n",
            "    Minibatch MSE: 0.085\n",
            "    Minibatch MSE: 0.066\n",
            "Epoch: 004 | MSE: 0.09004\n",
            "    Minibatch MSE: 0.098\n",
            "    Minibatch MSE: 0.120\n",
            "    Minibatch MSE: 0.049\n",
            "    Minibatch MSE: 0.080\n",
            "    Minibatch MSE: 0.201\n",
            "Epoch: 005 | MSE: 0.09690\n",
            "    Minibatch MSE: 0.092\n",
            "    Minibatch MSE: 0.099\n",
            "    Minibatch MSE: 0.093\n",
            "    Minibatch MSE: 0.093\n",
            "    Minibatch MSE: 0.089\n",
            "Epoch: 006 | MSE: 0.08951\n",
            "    Minibatch MSE: 0.080\n",
            "    Minibatch MSE: 0.104\n",
            "    Minibatch MSE: 0.093\n",
            "    Minibatch MSE: 0.108\n",
            "    Minibatch MSE: 0.025\n",
            "Epoch: 007 | MSE: 0.08914\n",
            "    Minibatch MSE: 0.134\n",
            "    Minibatch MSE: 0.088\n",
            "    Minibatch MSE: 0.083\n",
            "    Minibatch MSE: 0.059\n",
            "    Minibatch MSE: 0.130\n",
            "Epoch: 008 | MSE: 0.09370\n",
            "    Minibatch MSE: 0.093\n",
            "    Minibatch MSE: 0.105\n",
            "    Minibatch MSE: 0.105\n",
            "    Minibatch MSE: 0.106\n",
            "    Minibatch MSE: 0.020\n",
            "Epoch: 009 | MSE: 0.09186\n",
            "    Minibatch MSE: 0.073\n",
            "    Minibatch MSE: 0.083\n",
            "    Minibatch MSE: 0.135\n",
            "    Minibatch MSE: 0.094\n",
            "    Minibatch MSE: 0.128\n",
            "Epoch: 010 | MSE: 0.09204\n",
            "    Minibatch MSE: 0.064\n",
            "    Minibatch MSE: 0.100\n",
            "    Minibatch MSE: 0.131\n",
            "    Minibatch MSE: 0.112\n",
            "    Minibatch MSE: 0.002\n",
            "Epoch: 011 | MSE: 0.08927\n",
            "    Minibatch MSE: 0.065\n",
            "    Minibatch MSE: 0.047\n",
            "    Minibatch MSE: 0.153\n",
            "    Minibatch MSE: 0.106\n",
            "    Minibatch MSE: 0.061\n",
            "Epoch: 012 | MSE: 0.09162\n",
            "    Minibatch MSE: 0.144\n",
            "    Minibatch MSE: 0.069\n",
            "    Minibatch MSE: 0.051\n",
            "    Minibatch MSE: 0.107\n",
            "    Minibatch MSE: 0.149\n",
            "Epoch: 013 | MSE: 0.09200\n",
            "    Minibatch MSE: 0.110\n",
            "    Minibatch MSE: 0.048\n",
            "    Minibatch MSE: 0.131\n",
            "    Minibatch MSE: 0.103\n",
            "    Minibatch MSE: 0.092\n",
            "Epoch: 014 | MSE: 0.09903\n",
            "    Minibatch MSE: 0.108\n",
            "    Minibatch MSE: 0.114\n",
            "    Minibatch MSE: 0.077\n",
            "    Minibatch MSE: 0.108\n",
            "    Minibatch MSE: 0.032\n",
            "Epoch: 015 | MSE: 0.09320\n",
            "    Minibatch MSE: 0.123\n",
            "    Minibatch MSE: 0.114\n",
            "    Minibatch MSE: 0.043\n",
            "    Minibatch MSE: 0.109\n",
            "    Minibatch MSE: 0.065\n",
            "Epoch: 016 | MSE: 0.09248\n",
            "    Minibatch MSE: 0.180\n",
            "    Minibatch MSE: 0.060\n",
            "    Minibatch MSE: 0.062\n",
            "    Minibatch MSE: 0.072\n",
            "    Minibatch MSE: 0.123\n",
            "Epoch: 017 | MSE: 0.09312\n",
            "    Minibatch MSE: 0.037\n",
            "    Minibatch MSE: 0.074\n",
            "    Minibatch MSE: 0.094\n",
            "    Minibatch MSE: 0.160\n",
            "    Minibatch MSE: 0.204\n",
            "Epoch: 018 | MSE: 0.09466\n",
            "    Minibatch MSE: 0.103\n",
            "    Minibatch MSE: 0.120\n",
            "    Minibatch MSE: 0.137\n",
            "    Minibatch MSE: 0.039\n",
            "    Minibatch MSE: 0.049\n",
            "Epoch: 019 | MSE: 0.09959\n",
            "    Minibatch MSE: 0.084\n",
            "    Minibatch MSE: 0.088\n",
            "    Minibatch MSE: 0.140\n",
            "    Minibatch MSE: 0.088\n",
            "    Minibatch MSE: 0.017\n",
            "Epoch: 020 | MSE: 0.09157\n"
          ]
        }
      ]
    },
    {
      "cell_type": "code",
      "source": [
        "# Let's plot loss\n",
        "\n",
        "plt.plot(range(len(cost)), cost)\n",
        "plt.ylabel('Mean Squared Error')\n",
        "plt.xlabel('Epoch')\n",
        "plt.show()"
      ],
      "metadata": {
        "colab": {
          "base_uri": "https://localhost:8080/",
          "height": 279
        },
        "id": "b-fOn_UDBY-D",
        "outputId": "849ab228-a25e-4a1c-d816-204721fa672d"
      },
      "execution_count": 19,
      "outputs": [
        {
          "output_type": "display_data",
          "data": {
            "text/plain": [
              "<Figure size 432x288 with 1 Axes>"
            ],
            "image/png": "[encoded data removed]"
          },
          "metadata": {
            "needs_background": "light"
          }
        }
      ]
    },
    {
      "cell_type": "code",
      "source": [
        "print('Weights', model.weights)\n",
        "print('Bias', model.bias)"
      ],
      "metadata": {
        "colab": {
          "base_uri": "https://localhost:8080/"
        },
        "id": "Di5SaefdBgCs",
        "outputId": "d3dc9eb8-e21a-42bc-f005-01eb163e7771"
      },
      "execution_count": 20,
      "outputs": [
        {
          "output_type": "stream",
          "name": "stdout",
          "text": [
            "Weights tensor([[-0.0456],\n",
            "        [ 0.4024]])\n",
            "Bias tensor([0.3324])\n"
          ]
        }
      ]
    },
    {
      "cell_type": "code",
      "source": [
        "def analytical_solution(x, y):\n",
        "    Xb = torch.cat( (torch.ones((x.size(0), 1)), x), dim=1)\n",
        "    w = torch.zeros(x.size(1))\n",
        "    z = torch.inverse(torch.matmul(Xb.t(), Xb))\n",
        "    params = torch.matmul(z, torch.matmul(Xb.t(), y))\n",
        "    b, w = torch.tensor([params[0]]), params[1:].view(x.size(1), 1)\n",
        "    return w, b\n",
        "\n",
        "w, b = analytical_solution(X_train, y_train.float())\n",
        "print('Analytical weights', w)\n",
        "print('Analytical bias', b)"
      ],
      "metadata": {
        "colab": {
          "base_uri": "https://localhost:8080/"
        },
        "id": "3g3dIZ3nBk6o",
        "outputId": "614aec83-0c11-4f18-cacc-af2c968fc4a1"
      },
      "execution_count": 21,
      "outputs": [
        {
          "output_type": "stream",
          "name": "stdout",
          "text": [
            "Analytical weights tensor([[-0.0701],\n",
            "        [ 0.4180]])\n",
            "Analytical bias tensor([0.3810])\n"
          ]
        }
      ]
    },
    {
      "cell_type": "code",
      "source": [
        "# Evaluate on Evaluation Metric (Prediction Accuracy)\n",
        "\n",
        "ones = torch.ones(y_train.size())\n",
        "zeros = torch.zeros(y_train.size())\n",
        "train_pred = model.forward(X_train)\n",
        "train_acc = torch.mean((torch.where(train_pred > 0.5, ones, zeros).int() == y_train).float())\n",
        "\n",
        "ones = torch.ones(y_test.size())\n",
        "zeros = torch.zeros(y_test.size())\n",
        "test_pred = model.forward(X_test)\n",
        "test_acc = torch.mean(\n",
        "    (torch.where(test_pred > 0.5, \n",
        "                 ones, \n",
        "                 zeros).int() == y_test).float())\n",
        "\n",
        "print('Training Accuracy: %.2f' % (train_acc*100))\n",
        "print('Test Accuracy: %.2f' % (test_acc*100))"
      ],
      "metadata": {
        "colab": {
          "base_uri": "https://localhost:8080/"
        },
        "id": "dqM8LzDVBpvz",
        "outputId": "23c3fd52-afe4-439d-c832-40b325e986f2"
      },
      "execution_count": 23,
      "outputs": [
        {
          "output_type": "stream",
          "name": "stdout",
          "text": [
            "Training Accuracy: 90.48\n",
            "Test Accuracy: 94.44\n"
          ]
        }
      ]
    },
    {
      "cell_type": "code",
      "source": [
        "w, b = model.weights, model.bias - 0.5\n",
        "\n",
        "x_min = -3\n",
        "y_min = ( (-(w[0] * x_min) - b[0]) \n",
        "          / w[1] )\n",
        "\n",
        "x_max = 3\n",
        "y_max = ( (-(w[0] * x_max) - b[0]) \n",
        "          / w[1] )\n",
        "\n",
        "\n",
        "fig, ax = plt.subplots(1, 2, sharex=True, figsize=(7, 3))\n",
        "\n",
        "ax[0].plot([x_min, x_max], [y_min, y_max])\n",
        "ax[1].plot([x_min, x_max], [y_min, y_max])\n",
        "\n",
        "ax[0].scatter(X_train[y_train==0, 0], X_train[y_train==0, 1], label='class 0', marker='o')\n",
        "ax[0].scatter(X_train[y_train==1, 0], X_train[y_train==1, 1], label='class 1', marker='s')\n",
        "\n",
        "ax[1].scatter(X_test[y_test==0, 0], X_test[y_test==0, 1], label='class 0', marker='o')\n",
        "ax[1].scatter(X_test[y_test==1, 0], X_test[y_test==1, 1], label='class 1', marker='s')\n",
        "\n",
        "ax[1].legend(loc='upper left')\n",
        "plt.show()"
      ],
      "metadata": {
        "colab": {
          "base_uri": "https://localhost:8080/",
          "height": 301
        },
        "id": "_0jqppP8BuEC",
        "outputId": "56dfdbb9-587a-44f4-cf2c-d9bacb020127"
      },
      "execution_count": 24,
      "outputs": [
        {
          "output_type": "stream",
          "name": "stderr",
          "text": [
            "/usr/local/lib/python3.7/dist-packages/numpy/core/shape_base.py:65: FutureWarning: The input object of type 'Tensor' is an array-like implementing one of the corresponding protocols (`__array__`, `__array_interface__` or `__array_struct__`); but not a sequence (or 0-D). In the future, this object will be coerced as if it was first converted using `np.array(obj)`. To retain the old behaviour, you have to either modify the type 'Tensor', or assign to an empty array created with `np.empty(correct_shape, dtype=object)`.\n",
            "  ary = asanyarray(ary)\n",
            "/usr/local/lib/python3.7/dist-packages/numpy/core/shape_base.py:65: VisibleDeprecationWarning: Creating an ndarray from ragged nested sequences (which is a list-or-tuple of lists-or-tuples-or ndarrays with different lengths or shapes) is deprecated. If you meant to do this, you must specify 'dtype=object' when creating the ndarray.\n",
            "  ary = asanyarray(ary)\n"
          ]
        },
        {
          "output_type": "display_data",
          "data": {
            "text/plain": [
              "<Figure size 504x216 with 2 Axes>"
            ],
            "image/png": "[encoded data removed]"
          },
          "metadata": {
            "needs_background": "light"
          }
        }
      ]
    }
  ]
}