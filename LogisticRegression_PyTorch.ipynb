{
  "nbformat": 4,
  "nbformat_minor": 0,
  "metadata": {
    "colab": {
      "name": "LogisticRegression_PyTorch.ipynb",
      "provenance": [],
      "collapsed_sections": [],
      "authorship_tag": "ABX9TyPVT5c9Jhy4rft9hUu+SeBS",
      "include_colab_link": true
    },
    "kernelspec": {
      "name": "python3",
      "display_name": "Python 3"
    },
    "language_info": {
      "name": "python"
    }
  },
  "cells": [
    {
      "cell_type": "markdown",
      "metadata": {
        "id": "view-in-github",
        "colab_type": "text"
      },
      "source": [
        "<a href=\"https://colab.research.google.com/github/aysekonus/LogisticRegression_PyTorch/blob/main/LogisticRegression_PyTorch.ipynb\" target=\"_parent\"><img src=\"https://colab.research.google.com/assets/colab-badge.svg\" alt=\"Open In Colab\"/></a>"
      ]
    },
    {
      "cell_type": "code",
      "execution_count": null,
      "metadata": {
        "id": "gBcX2bLr5GXE"
      },
      "outputs": [],
      "source": [
        "%matplotlib inline\n",
        "import matplotlib.pyplot as plt\n",
        "import numpy as np\n",
        "import torch\n",
        "import torch.nn.functional as F"
      ]
    },
    {
      "cell_type": "code",
      "source": [
        "data = np.genfromtxt('dataset/toydata.txt', delimiter='\\t')\n",
        "# print(data[:5])"
      ],
      "metadata": {
        "id": "TaQxO5an5ihz"
      },
      "execution_count": null,
      "outputs": []
    },
    {
      "cell_type": "code",
      "source": [
        "x = data[:, :2].astype(np.float32)\n",
        "y = data[:, 2].astype(np.int64)\n",
        "# print(x[:5])\n",
        "# print(y[:5])"
      ],
      "metadata": {
        "id": "X46_VTiF6w4H"
      },
      "execution_count": null,
      "outputs": []
    },
    {
      "cell_type": "code",
      "source": [
        "np.random.seed(123)\n",
        "idx = np.arange(y.shape[0])\n",
        "np.random.shuffle(idx)\n",
        "\n",
        "X_test, y_test = x[idx[:25]], y[idx[:25]]\n",
        "X_train, y_train = x[idx[25:]], y[idx[25:]]\n",
        "\n",
        "mu, std = np.mean(X_train, axis=0), np.std(X_train, axis=0)\n",
        "X_train, X_test = (X_train - mu) / std, (X_test - mu) / std\n",
        "\n",
        "fig, ax = plt.subplots(1, 2, figsize=(7, 2.5))\n",
        "ax[0].scatter(X_train[y_train == 1, 0], X_train[y_train == 1, 1])\n",
        "ax[0].scatter(X_train[y_train == 0, 0], X_train[y_train == 0, 1])\n",
        "ax[1].scatter(X_test[y_test == 1, 0], X_test[y_test == 1, 1])\n",
        "ax[1].scatter(X_test[y_test == 0, 0], X_test[y_test == 0, 1])\n",
        "plt.xlim([x[:, 0].min()-0.5, x[:, 0].max()+0.5])\n",
        "plt.ylim([x[:, 1].min()-0.5, x[:, 1].max()+0.5])\n",
        "plt.show()"
      ],
      "metadata": {
        "colab": {
          "base_uri": "https://localhost:8080/",
          "height": 184
        },
        "id": "PnV1RPqs658-",
        "outputId": "39baf64f-e047-4ab6-90b2-4660a319c1be"
      },
      "execution_count": null,
      "outputs": [
        {
          "output_type": "display_data",
          "data": {
            "text/plain": [
              "<Figure size 504x180 with 2 Axes>"
            ],
            "image/png": "[encoded data removed]"
          },
          "metadata": {
            "needs_background": "light"
          }
        }
      ]
    },
    {
      "cell_type": "code",
      "source": [
        "device = torch.device(\"cuda:0\" if torch.cuda.is_available() else \"cpu\")\n",
        "\n",
        "class LogisticRegression():\n",
        "    def __init__(self, num_features):\n",
        "        self.num_features = num_features\n",
        "        self.weights = torch.zeros(1, num_features, dtype=torch.float32, device=device)\n",
        "        self.bias = torch.zeros(1, dtype=torch.float32, device=device)\n",
        "\n",
        "    def forward(self, x):\n",
        "        linear = torch.add(torch.mm(x, self.weights.t()), self.bias).view(-1)\n",
        "        probas = self._sigmoid(linear)\n",
        "        return probas\n",
        "        \n",
        "    def backward(self, x, y, probas):  \n",
        "        grad_loss_wrt_z = probas.view(-1) - y\n",
        "        grad_loss_wrt_w = torch.mm(x.t(), grad_loss_wrt_z.view(-1, 1)).t()\n",
        "        grad_loss_wrt_b = torch.sum(grad_loss_wrt_z)\n",
        "        return grad_loss_wrt_w, grad_loss_wrt_b\n",
        "            \n",
        "    def predict_labels(self, x):\n",
        "        probas = self.forward(x)\n",
        "        labels = torch.where(probas >= .5, 1, 0) # threshold function\n",
        "        return labels    \n",
        "            \n",
        "    def evaluate(self, x, y):\n",
        "        labels = self.predict_labels(x).float()\n",
        "        accuracy = torch.sum(labels.view(-1) == y.float()).item() / y.size(0)\n",
        "        return accuracy\n",
        "    \n",
        "    def _sigmoid(self, z):\n",
        "        return 1. / (1. + torch.exp(-z))\n",
        "    \n",
        "    def _logit_cost(self, y, proba):\n",
        "        tmp1 = torch.mm(-y.view(1, -1), torch.log(proba.view(-1, 1)))\n",
        "        tmp2 = torch.mm((1 - y).view(1, -1), torch.log(1 - proba.view(-1, 1)))\n",
        "        return tmp1 - tmp2\n",
        "    \n",
        "    def train(self, x, y, num_epochs, learning_rate=0.01):\n",
        "        epoch_cost = []\n",
        "        for e in range(num_epochs):\n",
        "            \n",
        "            #Compute outputs\n",
        "            probas = self.forward(x)\n",
        "            \n",
        "            #Compute gradients\n",
        "            grad_w, grad_b = self.backward(x, y, probas)\n",
        "\n",
        "            #Update weights\n",
        "            self.weights -= learning_rate * grad_w\n",
        "            self.bias -= learning_rate * grad_b\n",
        "            \n",
        "            #Logging\n",
        "            cost = self._logit_cost(y, self.forward(x)) / x.size(0)\n",
        "            print('Epoch: %03d' % (e+1), end=\"\")\n",
        "            print(' | Train ACC: %.3f' % self.evaluate(x, y), end=\"\")\n",
        "            print(' | Cost: %.3f' % cost)\n",
        "            epoch_cost.append(cost)\n",
        "        return epoch_cost"
      ],
      "metadata": {
        "id": "dNo5wBkX8GTE"
      },
      "execution_count": null,
      "outputs": []
    },
    {
      "cell_type": "code",
      "source": [
        "X_train_tensor = torch.tensor(X_train, dtype=torch.float32, device=device)\n",
        "y_train_tensor = torch.tensor(y_train, dtype=torch.float32, device=device)\n",
        "\n",
        "model1 = LogisticRegression(num_features=2)\n",
        "epoch_cost = model1.train(X_train_tensor, y_train_tensor, num_epochs=40, learning_rate=0.1)\n",
        "\n",
        "print('\\nModel parameters:')\n",
        "print('  Weights: %s' % model1.weights)\n",
        "print('  Bias: %s' % model1.bias)"
      ],
      "metadata": {
        "colab": {
          "base_uri": "https://localhost:8080/"
        },
        "id": "VPXuCNR_8vsz",
        "outputId": "5b64738e-8e69-4e07-865e-b87f66819788"
      },
      "execution_count": null,
      "outputs": [
        {
          "output_type": "stream",
          "name": "stdout",
          "text": [
            "Epoch: 001 | Train ACC: 0.973 | Cost: 0.055\n",
            "Epoch: 002 | Train ACC: 0.973 | Cost: 0.053\n",
            "Epoch: 003 | Train ACC: 0.973 | Cost: 0.051\n",
            "Epoch: 004 | Train ACC: 0.973 | Cost: 0.049\n",
            "Epoch: 005 | Train ACC: 0.973 | Cost: 0.048\n",
            "Epoch: 006 | Train ACC: 0.973 | Cost: 0.047\n",
            "Epoch: 007 | Train ACC: 0.973 | Cost: 0.046\n",
            "Epoch: 008 | Train ACC: 0.973 | Cost: 0.045\n",
            "Epoch: 009 | Train ACC: 0.973 | Cost: 0.044\n",
            "Epoch: 010 | Train ACC: 0.987 | Cost: 0.043\n",
            "Epoch: 011 | Train ACC: 0.987 | Cost: 0.042\n",
            "Epoch: 012 | Train ACC: 0.987 | Cost: 0.041\n",
            "Epoch: 013 | Train ACC: 0.987 | Cost: 0.041\n",
            "Epoch: 014 | Train ACC: 0.987 | Cost: 0.040\n",
            "Epoch: 015 | Train ACC: 0.987 | Cost: 0.039\n",
            "Epoch: 016 | Train ACC: 0.987 | Cost: 0.039\n",
            "Epoch: 017 | Train ACC: 1.000 | Cost: 0.038\n",
            "Epoch: 018 | Train ACC: 1.000 | Cost: 0.038\n",
            "Epoch: 019 | Train ACC: 1.000 | Cost: 0.037\n",
            "Epoch: 020 | Train ACC: 1.000 | Cost: 0.036\n",
            "Epoch: 021 | Train ACC: 1.000 | Cost: 0.036\n",
            "Epoch: 022 | Train ACC: 1.000 | Cost: 0.036\n",
            "Epoch: 023 | Train ACC: 1.000 | Cost: 0.035\n",
            "Epoch: 024 | Train ACC: 1.000 | Cost: 0.035\n",
            "Epoch: 025 | Train ACC: 1.000 | Cost: 0.034\n",
            "Epoch: 026 | Train ACC: 1.000 | Cost: 0.034\n",
            "Epoch: 027 | Train ACC: 1.000 | Cost: 0.033\n",
            "Epoch: 028 | Train ACC: 1.000 | Cost: 0.033\n",
            "Epoch: 029 | Train ACC: 1.000 | Cost: 0.033\n",
            "Epoch: 030 | Train ACC: 1.000 | Cost: 0.032\n",
            "Epoch: 031 | Train ACC: 1.000 | Cost: 0.032\n",
            "Epoch: 032 | Train ACC: 1.000 | Cost: 0.032\n",
            "Epoch: 033 | Train ACC: 1.000 | Cost: 0.031\n",
            "Epoch: 034 | Train ACC: 1.000 | Cost: 0.031\n",
            "Epoch: 035 | Train ACC: 1.000 | Cost: 0.031\n",
            "Epoch: 036 | Train ACC: 1.000 | Cost: 0.030\n",
            "Epoch: 037 | Train ACC: 1.000 | Cost: 0.030\n",
            "Epoch: 038 | Train ACC: 1.000 | Cost: 0.030\n",
            "Epoch: 039 | Train ACC: 1.000 | Cost: 0.030\n",
            "Epoch: 040 | Train ACC: 1.000 | Cost: 0.029\n",
            "\n",
            "Model parameters:\n",
            "  Weights: tensor([[5.5065, 3.5086]])\n",
            "  Bias: tensor([-0.9039])\n"
          ]
        }
      ]
    },
    {
      "cell_type": "code",
      "source": [
        "plt.plot(epoch_cost)\n",
        "plt.ylabel('Neg. Log Likelihood Loss')\n",
        "plt.xlabel('Epoch')\n",
        "plt.show()"
      ],
      "metadata": {
        "colab": {
          "base_uri": "https://localhost:8080/",
          "height": 369
        },
        "id": "iZh2KVJr80rb",
        "outputId": "0c7dae89-3af7-4dba-c4e1-3d3fae171f77"
      },
      "execution_count": null,
      "outputs": [
        {
          "output_type": "stream",
          "name": "stderr",
          "text": [
            "/usr/local/lib/python3.7/dist-packages/numpy/core/shape_base.py:65: FutureWarning: The input object of type 'Tensor' is an array-like implementing one of the corresponding protocols (`__array__`, `__array_interface__` or `__array_struct__`); but not a sequence (or 0-D). In the future, this object will be coerced as if it was first converted using `np.array(obj)`. To retain the old behaviour, you have to either modify the type 'Tensor', or assign to an empty array created with `np.empty(correct_shape, dtype=object)`.\n",
            "  ary = asanyarray(ary)\n",
            "/usr/local/lib/python3.7/dist-packages/numpy/core/shape_base.py:65: VisibleDeprecationWarning: Creating an ndarray from ragged nested sequences (which is a list-or-tuple of lists-or-tuples-or ndarrays with different lengths or shapes) is deprecated. If you meant to do this, you must specify 'dtype=object' when creating the ndarray.\n",
            "  ary = asanyarray(ary)\n"
          ]
        },
        {
          "output_type": "display_data",
          "data": {
            "text/plain": [
              "<Figure size 432x288 with 1 Axes>"
            ],
            "image/png": "[encoded data removed]"
          },
          "metadata": {
            "needs_background": "light"
          }
        }
      ]
    },
    {
      "cell_type": "code",
      "source": [
        "X_test_tensor = torch.tensor(X_test, dtype=torch.float32, device=device)\n",
        "y_test_tensor = torch.tensor(y_test, dtype=torch.float32, device=device)\n",
        "\n",
        "test_acc = model1.evaluate(X_test_tensor, y_test_tensor)\n",
        "print('Test set accuracy: %.2f%%' % (test_acc*100))"
      ],
      "metadata": {
        "colab": {
          "base_uri": "https://localhost:8080/"
        },
        "id": "oahHpeer9Djn",
        "outputId": "8cfc7225-c1d3-400a-91cb-0319bee31d85"
      },
      "execution_count": null,
      "outputs": [
        {
          "output_type": "stream",
          "name": "stdout",
          "text": [
            "Test set accuracy: 96.00%\n"
          ]
        }
      ]
    },
    {
      "cell_type": "code",
      "source": [
        "w, b = model1.weights.view(-1), model1.bias\n",
        "\n",
        "x_min = -2\n",
        "y_min = ( (-(w[0] * x_min) - b[0]) \n",
        "          / w[1] )\n",
        "\n",
        "x_max = 2\n",
        "y_max = ( (-(w[0] * x_max) - b[0]) \n",
        "          / w[1] )\n",
        "\n",
        "\n",
        "fig, ax = plt.subplots(1, 2, sharex=True, figsize=(7, 3))\n",
        "\n",
        "ax[0].plot([x_min, x_max], [y_min, y_max])\n",
        "ax[1].plot([x_min, x_max], [y_min, y_max])\n",
        "\n",
        "ax[0].scatter(X_train[y_train==0, 0], X_train[y_train==0, 1], label='class 0', marker='o')\n",
        "ax[0].scatter(X_train[y_train==1, 0], X_train[y_train==1, 1], label='class 1', marker='s')\n",
        "\n",
        "ax[1].scatter(X_test[y_test==0, 0], X_test[y_test==0, 1], label='class 0', marker='o')\n",
        "ax[1].scatter(X_test[y_test==1, 0], X_test[y_test==1, 1], label='class 1', marker='s')\n",
        "\n",
        "ax[1].legend(loc='upper left')\n",
        "plt.show()"
      ],
      "metadata": {
        "colab": {
          "base_uri": "https://localhost:8080/",
          "height": 211
        },
        "id": "e-Gr1ua69L2g",
        "outputId": "2b9ef9ad-5ce3-483e-d503-389f2e884612"
      },
      "execution_count": null,
      "outputs": [
        {
          "output_type": "display_data",
          "data": {
            "text/plain": [
              "<Figure size 504x216 with 2 Axes>"
            ],
            "image/png": "[encoded data removed]"
          },
          "metadata": {
            "needs_background": "light"
          }
        }
      ]
    }
  ]
}
